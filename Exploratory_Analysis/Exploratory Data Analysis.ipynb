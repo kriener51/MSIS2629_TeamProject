{
 "cells": [
  {
   "cell_type": "code",
   "execution_count": 1,
   "metadata": {},
   "outputs": [],
   "source": [
    "import pandas as pd"
   ]
  },
  {
   "cell_type": "markdown",
   "metadata": {},
   "source": [
    "Load Labor, Race, and Income Demographics"
   ]
  },
  {
   "cell_type": "code",
   "execution_count": 4,
   "metadata": {},
   "outputs": [],
   "source": [
    "labor = pd.read_csv(\"labor_demographics.csv\")"
   ]
  },
  {
   "cell_type": "code",
   "execution_count": 6,
   "metadata": {},
   "outputs": [],
   "source": [
    "race = pd.read_csv(\"ethnicity_income_demographics.csv\")"
   ]
  },
  {
   "cell_type": "markdown",
   "metadata": {},
   "source": [
    "Convert counts of ethnicity to rates."
   ]
  },
  {
   "cell_type": "code",
   "execution_count": 27,
   "metadata": {},
   "outputs": [],
   "source": [
    "race['Other'] = race['Other']/race['RACE-One-race']"
   ]
  },
  {
   "cell_type": "code",
   "execution_count": 28,
   "metadata": {},
   "outputs": [],
   "source": [
    "race['Pacific Islander'] = race['Pacific Islander']/race['RACE-One-race']"
   ]
  },
  {
   "cell_type": "code",
   "execution_count": 29,
   "metadata": {},
   "outputs": [],
   "source": [
    "race['Asian'] = race['Asian']/race['RACE-One-race']"
   ]
  },
  {
   "cell_type": "code",
   "execution_count": 30,
   "metadata": {},
   "outputs": [],
   "source": [
    "race['Native American'] = race['Native American']/race['RACE-One-race']"
   ]
  },
  {
   "cell_type": "code",
   "execution_count": 31,
   "metadata": {},
   "outputs": [],
   "source": [
    "race['African American'] = race['African American']/race['RACE-One-race']"
   ]
  },
  {
   "cell_type": "code",
   "execution_count": 35,
   "metadata": {},
   "outputs": [],
   "source": [
    "race['White'] = race['White']/race['RACE-One-race']"
   ]
  },
  {
   "cell_type": "markdown",
   "metadata": {},
   "source": [
    "Load Education Demographics"
   ]
  },
  {
   "cell_type": "code",
   "execution_count": 37,
   "metadata": {},
   "outputs": [],
   "source": [
    "edu = pd.read_csv(\"education_demographics.csv\")"
   ]
  },
  {
   "cell_type": "markdown",
   "metadata": {},
   "source": [
    "2 Step Merge process to combine the 3 demographics files."
   ]
  },
  {
   "cell_type": "code",
   "execution_count": 38,
   "metadata": {},
   "outputs": [],
   "source": [
    "merge1 = labor.merge(race, left_on='Id2', right_on='Id2')"
   ]
  },
  {
   "cell_type": "code",
   "execution_count": 40,
   "metadata": {},
   "outputs": [],
   "source": [
    "merge2 = merge1.merge(edu, left_on='Id2', right_on='Id2')"
   ]
  },
  {
   "cell_type": "code",
   "execution_count": 43,
   "metadata": {},
   "outputs": [],
   "source": [
    "merge2.drop('Id_y', inplace = True, axis = 1)\n",
    "merge2.drop('Geography_y', inplace = True, axis = 1)"
   ]
  },
  {
   "cell_type": "markdown",
   "metadata": {},
   "source": [
    "Load Election Data by county from 2016."
   ]
  },
  {
   "cell_type": "code",
   "execution_count": 20,
   "metadata": {},
   "outputs": [],
   "source": [
    "election = pd.read_csv(\"election2016.csv\")"
   ]
  },
  {
   "cell_type": "code",
   "execution_count": 82,
   "metadata": {},
   "outputs": [
    {
     "data": {
      "text/html": [
       "<div>\n",
       "<style scoped>\n",
       "    .dataframe tbody tr th:only-of-type {\n",
       "        vertical-align: middle;\n",
       "    }\n",
       "\n",
       "    .dataframe tbody tr th {\n",
       "        vertical-align: top;\n",
       "    }\n",
       "\n",
       "    .dataframe thead th {\n",
       "        text-align: right;\n",
       "    }\n",
       "</style>\n",
       "<table border=\"1\" class=\"dataframe\">\n",
       "  <thead>\n",
       "    <tr style=\"text-align: right;\">\n",
       "      <th></th>\n",
       "      <th>county</th>\n",
       "      <th>fips</th>\n",
       "      <th>cand</th>\n",
       "      <th>st</th>\n",
       "      <th>pct_report</th>\n",
       "      <th>votes</th>\n",
       "      <th>total_votes</th>\n",
       "      <th>lead</th>\n",
       "      <th>pct</th>\n",
       "      <th>state.name</th>\n",
       "      <th>Trump</th>\n",
       "      <th>Clinton</th>\n",
       "      <th>Other</th>\n",
       "    </tr>\n",
       "  </thead>\n",
       "  <tbody>\n",
       "    <tr>\n",
       "      <th>18340</th>\n",
       "      <td>Niobrara County</td>\n",
       "      <td>56027</td>\n",
       "      <td>Hillary Clinton</td>\n",
       "      <td>WY</td>\n",
       "      <td>1.0</td>\n",
       "      <td>115</td>\n",
       "      <td>1297</td>\n",
       "      <td>Donald Trump</td>\n",
       "      <td>0.088666</td>\n",
       "      <td>Wyoming</td>\n",
       "      <td>0</td>\n",
       "      <td>115</td>\n",
       "      <td>0</td>\n",
       "    </tr>\n",
       "    <tr>\n",
       "      <th>18341</th>\n",
       "      <td>Niobrara County</td>\n",
       "      <td>56027</td>\n",
       "      <td>Gary Johnson</td>\n",
       "      <td>WY</td>\n",
       "      <td>1.0</td>\n",
       "      <td>49</td>\n",
       "      <td>1297</td>\n",
       "      <td>Donald Trump</td>\n",
       "      <td>0.037779</td>\n",
       "      <td>Wyoming</td>\n",
       "      <td>0</td>\n",
       "      <td>0</td>\n",
       "      <td>49</td>\n",
       "    </tr>\n",
       "    <tr>\n",
       "      <th>18342</th>\n",
       "      <td>Niobrara County</td>\n",
       "      <td>56027</td>\n",
       "      <td>Darrell Castle</td>\n",
       "      <td>WY</td>\n",
       "      <td>1.0</td>\n",
       "      <td>7</td>\n",
       "      <td>1297</td>\n",
       "      <td>Donald Trump</td>\n",
       "      <td>0.005397</td>\n",
       "      <td>Wyoming</td>\n",
       "      <td>0</td>\n",
       "      <td>0</td>\n",
       "      <td>7</td>\n",
       "    </tr>\n",
       "    <tr>\n",
       "      <th>18343</th>\n",
       "      <td>Niobrara County</td>\n",
       "      <td>56027</td>\n",
       "      <td>Jill Stein</td>\n",
       "      <td>WY</td>\n",
       "      <td>1.0</td>\n",
       "      <td>7</td>\n",
       "      <td>1297</td>\n",
       "      <td>Donald Trump</td>\n",
       "      <td>0.005397</td>\n",
       "      <td>Wyoming</td>\n",
       "      <td>0</td>\n",
       "      <td>0</td>\n",
       "      <td>7</td>\n",
       "    </tr>\n",
       "    <tr>\n",
       "      <th>18344</th>\n",
       "      <td>Niobrara County</td>\n",
       "      <td>56027</td>\n",
       "      <td>Rocky De La Fuente</td>\n",
       "      <td>WY</td>\n",
       "      <td>1.0</td>\n",
       "      <td>3</td>\n",
       "      <td>1297</td>\n",
       "      <td>Donald Trump</td>\n",
       "      <td>0.002313</td>\n",
       "      <td>Wyoming</td>\n",
       "      <td>0</td>\n",
       "      <td>0</td>\n",
       "      <td>3</td>\n",
       "    </tr>\n",
       "  </tbody>\n",
       "</table>\n",
       "</div>"
      ],
      "text/plain": [
       "                county   fips                cand  st  pct_report  votes  \\\n",
       "18340  Niobrara County  56027     Hillary Clinton  WY         1.0    115   \n",
       "18341  Niobrara County  56027        Gary Johnson  WY         1.0     49   \n",
       "18342  Niobrara County  56027      Darrell Castle  WY         1.0      7   \n",
       "18343  Niobrara County  56027          Jill Stein  WY         1.0      7   \n",
       "18344  Niobrara County  56027  Rocky De La Fuente  WY         1.0      3   \n",
       "\n",
       "       total_votes          lead       pct state.name  Trump  Clinton  Other  \n",
       "18340         1297  Donald Trump  0.088666    Wyoming      0      115      0  \n",
       "18341         1297  Donald Trump  0.037779    Wyoming      0        0     49  \n",
       "18342         1297  Donald Trump  0.005397    Wyoming      0        0      7  \n",
       "18343         1297  Donald Trump  0.005397    Wyoming      0        0      7  \n",
       "18344         1297  Donald Trump  0.002313    Wyoming      0        0      3  "
      ]
     },
     "execution_count": 82,
     "metadata": {},
     "output_type": "execute_result"
    }
   ],
   "source": [
    "election.tail()"
   ]
  },
  {
   "cell_type": "markdown",
   "metadata": {},
   "source": [
    "Clean up by producing columns with vote totals for Trump, Clinton, and Others. Then group by county in order to have each row be a record of vote totals per county."
   ]
  },
  {
   "cell_type": "code",
   "execution_count": 51,
   "metadata": {},
   "outputs": [],
   "source": [
    "election['Trump'] = (election['cand'] == 'Donald Trump')*election['votes']"
   ]
  },
  {
   "cell_type": "code",
   "execution_count": 54,
   "metadata": {},
   "outputs": [],
   "source": [
    "election['Clinton'] = (election['cand']=='Hillary Clinton')*election['votes']"
   ]
  },
  {
   "cell_type": "code",
   "execution_count": 53,
   "metadata": {},
   "outputs": [],
   "source": [
    "election['Other'] = ((election['cand']!= 'Donald Trump')&(election['cand']!='Hillary Clinton'))*election['votes']"
   ]
  },
  {
   "cell_type": "code",
   "execution_count": 60,
   "metadata": {},
   "outputs": [],
   "source": [
    "election_grp = election.groupby(['fips','county','st','state.name']).agg({'total_votes':'max', \n",
    "                                                           'Trump':'max', 'Clinton':'max', 'Other':'sum'}).reset_index()"
   ]
  },
  {
   "cell_type": "code",
   "execution_count": 85,
   "metadata": {},
   "outputs": [
    {
     "data": {
      "text/html": [
       "<div>\n",
       "<style scoped>\n",
       "    .dataframe tbody tr th:only-of-type {\n",
       "        vertical-align: middle;\n",
       "    }\n",
       "\n",
       "    .dataframe tbody tr th {\n",
       "        vertical-align: top;\n",
       "    }\n",
       "\n",
       "    .dataframe thead th {\n",
       "        text-align: right;\n",
       "    }\n",
       "</style>\n",
       "<table border=\"1\" class=\"dataframe\">\n",
       "  <thead>\n",
       "    <tr style=\"text-align: right;\">\n",
       "      <th></th>\n",
       "      <th>fips</th>\n",
       "      <th>county</th>\n",
       "      <th>st</th>\n",
       "      <th>state.name</th>\n",
       "      <th>Other</th>\n",
       "      <th>Clinton</th>\n",
       "      <th>Trump</th>\n",
       "      <th>total_votes</th>\n",
       "    </tr>\n",
       "  </thead>\n",
       "  <tbody>\n",
       "    <tr>\n",
       "      <th>0</th>\n",
       "      <td>10001</td>\n",
       "      <td>Kent County</td>\n",
       "      <td>DE</td>\n",
       "      <td>Delaware</td>\n",
       "      <td>0.052752</td>\n",
       "      <td>0.44910</td>\n",
       "      <td>0.498148</td>\n",
       "      <td>74253</td>\n",
       "    </tr>\n",
       "    <tr>\n",
       "      <th>1</th>\n",
       "      <td>10003</td>\n",
       "      <td>New Castle County</td>\n",
       "      <td>DE</td>\n",
       "      <td>Delaware</td>\n",
       "      <td>0.049933</td>\n",
       "      <td>0.62304</td>\n",
       "      <td>0.327027</td>\n",
       "      <td>261468</td>\n",
       "    </tr>\n",
       "    <tr>\n",
       "      <th>2</th>\n",
       "      <td>10005</td>\n",
       "      <td>Sussex County</td>\n",
       "      <td>DE</td>\n",
       "      <td>Delaware</td>\n",
       "      <td>0.036649</td>\n",
       "      <td>0.37168</td>\n",
       "      <td>0.591670</td>\n",
       "      <td>105814</td>\n",
       "    </tr>\n",
       "  </tbody>\n",
       "</table>\n",
       "</div>"
      ],
      "text/plain": [
       "    fips             county  st state.name     Other  Clinton     Trump  \\\n",
       "0  10001        Kent County  DE   Delaware  0.052752  0.44910  0.498148   \n",
       "1  10003  New Castle County  DE   Delaware  0.049933  0.62304  0.327027   \n",
       "2  10005      Sussex County  DE   Delaware  0.036649  0.37168  0.591670   \n",
       "\n",
       "   total_votes  \n",
       "0        74253  \n",
       "1       261468  \n",
       "2       105814  "
      ]
     },
     "execution_count": 85,
     "metadata": {},
     "output_type": "execute_result"
    }
   ],
   "source": [
    "election_grp.head(3)"
   ]
  },
  {
   "cell_type": "markdown",
   "metadata": {},
   "source": [
    "Create rates per candidate."
   ]
  },
  {
   "cell_type": "code",
   "execution_count": 62,
   "metadata": {},
   "outputs": [],
   "source": [
    "election_grp['Other'] = election_grp['Other']/election_grp['total_votes']"
   ]
  },
  {
   "cell_type": "code",
   "execution_count": 65,
   "metadata": {},
   "outputs": [],
   "source": [
    "election_grp['Clinton'] = election_grp['Clinton']/election_grp['total_votes']"
   ]
  },
  {
   "cell_type": "code",
   "execution_count": 64,
   "metadata": {},
   "outputs": [],
   "source": [
    "election_grp['Trump'] = election_grp['Trump']/election_grp['total_votes']"
   ]
  },
  {
   "cell_type": "code",
   "execution_count": 76,
   "metadata": {},
   "outputs": [],
   "source": [
    "merge2['Id2'] = merge2['Id2'].apply(pd.to_numeric)"
   ]
  },
  {
   "cell_type": "code",
   "execution_count": 77,
   "metadata": {},
   "outputs": [],
   "source": [
    "election_grp['fips'] = election_grp['fips'].apply(pd.to_numeric)"
   ]
  },
  {
   "cell_type": "code",
   "execution_count": 78,
   "metadata": {},
   "outputs": [],
   "source": [
    "census_with_election = merge2.merge(election_grp, left_on = 'Id2', right_on = 'fips', how = 'outer')"
   ]
  },
  {
   "cell_type": "code",
   "execution_count": 80,
   "metadata": {},
   "outputs": [],
   "source": [
    "census_with_election.to_csv('census_with_election_data.csv')"
   ]
  }
 ],
 "metadata": {
  "kernelspec": {
   "display_name": "Python 2",
   "language": "python",
   "name": "python2"
  },
  "language_info": {
   "codemirror_mode": {
    "name": "ipython",
    "version": 2
   },
   "file_extension": ".py",
   "mimetype": "text/x-python",
   "name": "python",
   "nbconvert_exporter": "python",
   "pygments_lexer": "ipython2",
   "version": "2.7.14"
  }
 },
 "nbformat": 4,
 "nbformat_minor": 2
}
