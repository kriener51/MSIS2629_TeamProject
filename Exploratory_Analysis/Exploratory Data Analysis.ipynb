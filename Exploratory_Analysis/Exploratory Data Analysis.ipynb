{
 "cells": [
  {
   "cell_type": "markdown",
   "metadata": {},
   "source": [
    "# Voter Disenfranchisement - Data Preparation"
   ]
  },
  {
   "cell_type": "markdown",
   "metadata": {},
   "source": [
    "### Initial data exploration and clean up\n",
    "\n",
    "We will be looking at how citizens of voting age can be, and are being disenfranchised in the United States of America from these three points of view - the citizens and groups that are being adversely affected by disenfranchisement (Who), how location plays into it the Where) and the temporal concerns that contribute to it (the When)."
   ]
  },
  {
   "cell_type": "markdown",
   "metadata": {},
   "source": [
    "## 1. Electoral and temporal concerns contributing towards disenfranchisement"
   ]
  },
  {
   "cell_type": "markdown",
   "metadata": {},
   "source": [
    "Our main data source for this project will be 2016 US Census data. We downloaded multiple files, each with various demographic information such as race, education and employment. We merged these together along with results from the 2016 election to use as our main data file. \n",
    "\n",
    "Information on mail-in and early voting was found online (http://www.ncsl.org/research/elections-and-campaigns/absentee-and-early-voting.aspx). We took this information and entered it into a .csv file to use in our analysis."
   ]
  },
  {
   "cell_type": "code",
   "execution_count": 1,
   "metadata": {
    "collapsed": true
   },
   "outputs": [],
   "source": [
    "import pandas as pd"
   ]
  },
  {
   "cell_type": "markdown",
   "metadata": {},
   "source": [
    "Load Labor, Race, and Income Demographics"
   ]
  },
  {
   "cell_type": "code",
   "execution_count": 4,
   "metadata": {
    "collapsed": true
   },
   "outputs": [],
   "source": [
    "labor = pd.read_csv(\"labor_demographics.csv\")"
   ]
  },
  {
   "cell_type": "code",
   "execution_count": 6,
   "metadata": {
    "collapsed": true
   },
   "outputs": [],
   "source": [
    "race = pd.read_csv(\"ethnicity_income_demographics.csv\")"
   ]
  },
  {
   "cell_type": "markdown",
   "metadata": {},
   "source": [
    "Convert counts of ethnicity to rates."
   ]
  },
  {
   "cell_type": "code",
   "execution_count": 27,
   "metadata": {
    "collapsed": true
   },
   "outputs": [],
   "source": [
    "race['Other'] = race['Other']/race['RACE-One-race']"
   ]
  },
  {
   "cell_type": "code",
   "execution_count": 28,
   "metadata": {
    "collapsed": true
   },
   "outputs": [],
   "source": [
    "race['Pacific Islander'] = race['Pacific Islander']/race['RACE-One-race']"
   ]
  },
  {
   "cell_type": "code",
   "execution_count": 29,
   "metadata": {
    "collapsed": true
   },
   "outputs": [],
   "source": [
    "race['Asian'] = race['Asian']/race['RACE-One-race']"
   ]
  },
  {
   "cell_type": "code",
   "execution_count": 30,
   "metadata": {
    "collapsed": true
   },
   "outputs": [],
   "source": [
    "race['Native American'] = race['Native American']/race['RACE-One-race']"
   ]
  },
  {
   "cell_type": "code",
   "execution_count": 31,
   "metadata": {
    "collapsed": true
   },
   "outputs": [],
   "source": [
    "race['African American'] = race['African American']/race['RACE-One-race']"
   ]
  },
  {
   "cell_type": "code",
   "execution_count": 35,
   "metadata": {
    "collapsed": true
   },
   "outputs": [],
   "source": [
    "race['White'] = race['White']/race['RACE-One-race']"
   ]
  },
  {
   "cell_type": "markdown",
   "metadata": {},
   "source": [
    "Load Education Demographics"
   ]
  },
  {
   "cell_type": "code",
   "execution_count": 37,
   "metadata": {
    "collapsed": true
   },
   "outputs": [],
   "source": [
    "edu = pd.read_csv(\"education_demographics.csv\")"
   ]
  },
  {
   "cell_type": "markdown",
   "metadata": {},
   "source": [
    "2 Step Merge process to combine the 3 demographics files."
   ]
  },
  {
   "cell_type": "code",
   "execution_count": 38,
   "metadata": {
    "collapsed": true
   },
   "outputs": [],
   "source": [
    "merge1 = labor.merge(race, left_on='Id2', right_on='Id2')"
   ]
  },
  {
   "cell_type": "code",
   "execution_count": 40,
   "metadata": {
    "collapsed": true
   },
   "outputs": [],
   "source": [
    "merge2 = merge1.merge(edu, left_on='Id2', right_on='Id2')"
   ]
  },
  {
   "cell_type": "code",
   "execution_count": 43,
   "metadata": {
    "collapsed": true
   },
   "outputs": [],
   "source": [
    "merge2.drop('Id_y', inplace = True, axis = 1)\n",
    "merge2.drop('Geography_y', inplace = True, axis = 1)"
   ]
  },
  {
   "cell_type": "markdown",
   "metadata": {},
   "source": [
    "Load Election Data by county from 2016."
   ]
  },
  {
   "cell_type": "code",
   "execution_count": 20,
   "metadata": {
    "collapsed": true
   },
   "outputs": [],
   "source": [
    "election = pd.read_csv(\"election2016.csv\")"
   ]
  },
  {
   "cell_type": "code",
   "execution_count": 82,
   "metadata": {
    "collapsed": false
   },
   "outputs": [
    {
     "data": {
      "text/html": [
       "<div>\n",
       "<style scoped>\n",
       "    .dataframe tbody tr th:only-of-type {\n",
       "        vertical-align: middle;\n",
       "    }\n",
       "\n",
       "    .dataframe tbody tr th {\n",
       "        vertical-align: top;\n",
       "    }\n",
       "\n",
       "    .dataframe thead th {\n",
       "        text-align: right;\n",
       "    }\n",
       "</style>\n",
       "<table border=\"1\" class=\"dataframe\">\n",
       "  <thead>\n",
       "    <tr style=\"text-align: right;\">\n",
       "      <th></th>\n",
       "      <th>county</th>\n",
       "      <th>fips</th>\n",
       "      <th>cand</th>\n",
       "      <th>st</th>\n",
       "      <th>pct_report</th>\n",
       "      <th>votes</th>\n",
       "      <th>total_votes</th>\n",
       "      <th>lead</th>\n",
       "      <th>pct</th>\n",
       "      <th>state.name</th>\n",
       "      <th>Trump</th>\n",
       "      <th>Clinton</th>\n",
       "      <th>Other</th>\n",
       "    </tr>\n",
       "  </thead>\n",
       "  <tbody>\n",
       "    <tr>\n",
       "      <th>18340</th>\n",
       "      <td>Niobrara County</td>\n",
       "      <td>56027</td>\n",
       "      <td>Hillary Clinton</td>\n",
       "      <td>WY</td>\n",
       "      <td>1.0</td>\n",
       "      <td>115</td>\n",
       "      <td>1297</td>\n",
       "      <td>Donald Trump</td>\n",
       "      <td>0.088666</td>\n",
       "      <td>Wyoming</td>\n",
       "      <td>0</td>\n",
       "      <td>115</td>\n",
       "      <td>0</td>\n",
       "    </tr>\n",
       "    <tr>\n",
       "      <th>18341</th>\n",
       "      <td>Niobrara County</td>\n",
       "      <td>56027</td>\n",
       "      <td>Gary Johnson</td>\n",
       "      <td>WY</td>\n",
       "      <td>1.0</td>\n",
       "      <td>49</td>\n",
       "      <td>1297</td>\n",
       "      <td>Donald Trump</td>\n",
       "      <td>0.037779</td>\n",
       "      <td>Wyoming</td>\n",
       "      <td>0</td>\n",
       "      <td>0</td>\n",
       "      <td>49</td>\n",
       "    </tr>\n",
       "    <tr>\n",
       "      <th>18342</th>\n",
       "      <td>Niobrara County</td>\n",
       "      <td>56027</td>\n",
       "      <td>Darrell Castle</td>\n",
       "      <td>WY</td>\n",
       "      <td>1.0</td>\n",
       "      <td>7</td>\n",
       "      <td>1297</td>\n",
       "      <td>Donald Trump</td>\n",
       "      <td>0.005397</td>\n",
       "      <td>Wyoming</td>\n",
       "      <td>0</td>\n",
       "      <td>0</td>\n",
       "      <td>7</td>\n",
       "    </tr>\n",
       "    <tr>\n",
       "      <th>18343</th>\n",
       "      <td>Niobrara County</td>\n",
       "      <td>56027</td>\n",
       "      <td>Jill Stein</td>\n",
       "      <td>WY</td>\n",
       "      <td>1.0</td>\n",
       "      <td>7</td>\n",
       "      <td>1297</td>\n",
       "      <td>Donald Trump</td>\n",
       "      <td>0.005397</td>\n",
       "      <td>Wyoming</td>\n",
       "      <td>0</td>\n",
       "      <td>0</td>\n",
       "      <td>7</td>\n",
       "    </tr>\n",
       "    <tr>\n",
       "      <th>18344</th>\n",
       "      <td>Niobrara County</td>\n",
       "      <td>56027</td>\n",
       "      <td>Rocky De La Fuente</td>\n",
       "      <td>WY</td>\n",
       "      <td>1.0</td>\n",
       "      <td>3</td>\n",
       "      <td>1297</td>\n",
       "      <td>Donald Trump</td>\n",
       "      <td>0.002313</td>\n",
       "      <td>Wyoming</td>\n",
       "      <td>0</td>\n",
       "      <td>0</td>\n",
       "      <td>3</td>\n",
       "    </tr>\n",
       "  </tbody>\n",
       "</table>\n",
       "</div>"
      ],
      "text/plain": [
       "                county   fips                cand  st  pct_report  votes  \\\n",
       "18340  Niobrara County  56027     Hillary Clinton  WY         1.0    115   \n",
       "18341  Niobrara County  56027        Gary Johnson  WY         1.0     49   \n",
       "18342  Niobrara County  56027      Darrell Castle  WY         1.0      7   \n",
       "18343  Niobrara County  56027          Jill Stein  WY         1.0      7   \n",
       "18344  Niobrara County  56027  Rocky De La Fuente  WY         1.0      3   \n",
       "\n",
       "       total_votes          lead       pct state.name  Trump  Clinton  Other  \n",
       "18340         1297  Donald Trump  0.088666    Wyoming      0      115      0  \n",
       "18341         1297  Donald Trump  0.037779    Wyoming      0        0     49  \n",
       "18342         1297  Donald Trump  0.005397    Wyoming      0        0      7  \n",
       "18343         1297  Donald Trump  0.005397    Wyoming      0        0      7  \n",
       "18344         1297  Donald Trump  0.002313    Wyoming      0        0      3  "
      ]
     },
     "execution_count": 82,
     "metadata": {},
     "output_type": "execute_result"
    }
   ],
   "source": [
    "election.tail()"
   ]
  },
  {
   "cell_type": "markdown",
   "metadata": {},
   "source": [
    "Clean up by producing columns with vote totals for Trump, Clinton, and Others. Then group by county in order to have each row be a record of vote totals per county."
   ]
  },
  {
   "cell_type": "code",
   "execution_count": 51,
   "metadata": {
    "collapsed": true
   },
   "outputs": [],
   "source": [
    "election['Trump'] = (election['cand'] == 'Donald Trump')*election['votes']"
   ]
  },
  {
   "cell_type": "code",
   "execution_count": 54,
   "metadata": {
    "collapsed": true
   },
   "outputs": [],
   "source": [
    "election['Clinton'] = (election['cand']=='Hillary Clinton')*election['votes']"
   ]
  },
  {
   "cell_type": "code",
   "execution_count": 53,
   "metadata": {
    "collapsed": true
   },
   "outputs": [],
   "source": [
    "election['Other'] = ((election['cand']!= 'Donald Trump')&(election['cand']!='Hillary Clinton'))*election['votes']"
   ]
  },
  {
   "cell_type": "code",
   "execution_count": 60,
   "metadata": {
    "collapsed": true
   },
   "outputs": [],
   "source": [
    "election_grp = election.groupby(['fips','county','st','state.name']).agg({'total_votes':'max', \n",
    "                                                           'Trump':'max', 'Clinton':'max', 'Other':'sum'}).reset_index()"
   ]
  },
  {
   "cell_type": "code",
   "execution_count": 85,
   "metadata": {
    "collapsed": false
   },
   "outputs": [
    {
     "data": {
      "text/html": [
       "<div>\n",
       "<style scoped>\n",
       "    .dataframe tbody tr th:only-of-type {\n",
       "        vertical-align: middle;\n",
       "    }\n",
       "\n",
       "    .dataframe tbody tr th {\n",
       "        vertical-align: top;\n",
       "    }\n",
       "\n",
       "    .dataframe thead th {\n",
       "        text-align: right;\n",
       "    }\n",
       "</style>\n",
       "<table border=\"1\" class=\"dataframe\">\n",
       "  <thead>\n",
       "    <tr style=\"text-align: right;\">\n",
       "      <th></th>\n",
       "      <th>fips</th>\n",
       "      <th>county</th>\n",
       "      <th>st</th>\n",
       "      <th>state.name</th>\n",
       "      <th>Other</th>\n",
       "      <th>Clinton</th>\n",
       "      <th>Trump</th>\n",
       "      <th>total_votes</th>\n",
       "    </tr>\n",
       "  </thead>\n",
       "  <tbody>\n",
       "    <tr>\n",
       "      <th>0</th>\n",
       "      <td>10001</td>\n",
       "      <td>Kent County</td>\n",
       "      <td>DE</td>\n",
       "      <td>Delaware</td>\n",
       "      <td>0.052752</td>\n",
       "      <td>0.44910</td>\n",
       "      <td>0.498148</td>\n",
       "      <td>74253</td>\n",
       "    </tr>\n",
       "    <tr>\n",
       "      <th>1</th>\n",
       "      <td>10003</td>\n",
       "      <td>New Castle County</td>\n",
       "      <td>DE</td>\n",
       "      <td>Delaware</td>\n",
       "      <td>0.049933</td>\n",
       "      <td>0.62304</td>\n",
       "      <td>0.327027</td>\n",
       "      <td>261468</td>\n",
       "    </tr>\n",
       "    <tr>\n",
       "      <th>2</th>\n",
       "      <td>10005</td>\n",
       "      <td>Sussex County</td>\n",
       "      <td>DE</td>\n",
       "      <td>Delaware</td>\n",
       "      <td>0.036649</td>\n",
       "      <td>0.37168</td>\n",
       "      <td>0.591670</td>\n",
       "      <td>105814</td>\n",
       "    </tr>\n",
       "  </tbody>\n",
       "</table>\n",
       "</div>"
      ],
      "text/plain": [
       "    fips             county  st state.name     Other  Clinton     Trump  \\\n",
       "0  10001        Kent County  DE   Delaware  0.052752  0.44910  0.498148   \n",
       "1  10003  New Castle County  DE   Delaware  0.049933  0.62304  0.327027   \n",
       "2  10005      Sussex County  DE   Delaware  0.036649  0.37168  0.591670   \n",
       "\n",
       "   total_votes  \n",
       "0        74253  \n",
       "1       261468  \n",
       "2       105814  "
      ]
     },
     "execution_count": 85,
     "metadata": {},
     "output_type": "execute_result"
    }
   ],
   "source": [
    "election_grp.head(3)"
   ]
  },
  {
   "cell_type": "markdown",
   "metadata": {},
   "source": [
    "Create rates per candidate."
   ]
  },
  {
   "cell_type": "code",
   "execution_count": 62,
   "metadata": {
    "collapsed": true
   },
   "outputs": [],
   "source": [
    "election_grp['Other'] = election_grp['Other']/election_grp['total_votes']"
   ]
  },
  {
   "cell_type": "code",
   "execution_count": 65,
   "metadata": {
    "collapsed": true
   },
   "outputs": [],
   "source": [
    "election_grp['Clinton'] = election_grp['Clinton']/election_grp['total_votes']"
   ]
  },
  {
   "cell_type": "code",
   "execution_count": 64,
   "metadata": {
    "collapsed": true
   },
   "outputs": [],
   "source": [
    "election_grp['Trump'] = election_grp['Trump']/election_grp['total_votes']"
   ]
  },
  {
   "cell_type": "code",
   "execution_count": 76,
   "metadata": {
    "collapsed": true
   },
   "outputs": [],
   "source": [
    "merge2['Id2'] = merge2['Id2'].apply(pd.to_numeric)"
   ]
  },
  {
   "cell_type": "code",
   "execution_count": 77,
   "metadata": {
    "collapsed": true
   },
   "outputs": [],
   "source": [
    "election_grp['fips'] = election_grp['fips'].apply(pd.to_numeric)"
   ]
  },
  {
   "cell_type": "code",
   "execution_count": 78,
   "metadata": {
    "collapsed": true
   },
   "outputs": [],
   "source": [
    "census_with_election = merge2.merge(election_grp, left_on = 'Id2', right_on = 'fips', how = 'outer')"
   ]
  },
  {
   "cell_type": "code",
   "execution_count": 80,
   "metadata": {
    "collapsed": true
   },
   "outputs": [],
   "source": [
    "census_with_election.to_csv('census_with_election_data.csv')"
   ]
  },
  {
   "cell_type": "markdown",
   "metadata": {},
   "source": [
    "## 2. Citizens and groups affected by disenfranchisement"
   ]
  },
  {
   "cell_type": "markdown",
   "metadata": {},
   "source": [
    "In order to collect comprehensivewe collected data from 4 different sources"
   ]
  },
  {
   "cell_type": "code",
   "execution_count": 2,
   "metadata": {
    "collapsed": true
   },
   "outputs": [],
   "source": [
    "felons_all = pd.read_csv(\"2016_felon_disenfranchisement_state.csv\")\n",
    "felons_black = pd.read_csv(\"2016_black_felon_disenfranchisement_state.csv\")\n",
    "felon_disenf_laws = pd.read_csv(\"Felon_Disenfranchisement_Laws_state.csv\")\n",
    "voterID_laws = pd.read_csv(\"VoterID_laws.csv\")"
   ]
  },
  {
   "cell_type": "code",
   "execution_count": 5,
   "metadata": {
    "collapsed": true
   },
   "outputs": [],
   "source": [
    "felons_merge = felons_all.merge(felons_black, left_on='State', right_on='State')"
   ]
  },
  {
   "cell_type": "code",
   "execution_count": 10,
   "metadata": {
    "collapsed": true
   },
   "outputs": [],
   "source": [
    "felon_voter_laws = felon_disenf_laws.merge(voterID_laws, left_on='State', right_on='StateName')"
   ]
  },
  {
   "cell_type": "code",
   "execution_count": 17,
   "metadata": {
    "collapsed": false
   },
   "outputs": [
    {
     "data": {
      "text/html": [
       "<div>\n",
       "<style>\n",
       "    .dataframe thead tr:only-child th {\n",
       "        text-align: right;\n",
       "    }\n",
       "\n",
       "    .dataframe thead th {\n",
       "        text-align: left;\n",
       "    }\n",
       "\n",
       "    .dataframe tbody tr th {\n",
       "        vertical-align: top;\n",
       "    }\n",
       "</style>\n",
       "<table border=\"1\" class=\"dataframe\">\n",
       "  <thead>\n",
       "    <tr style=\"text-align: right;\">\n",
       "      <th></th>\n",
       "      <th>State</th>\n",
       "      <th>Prison_x</th>\n",
       "      <th>Parole_x</th>\n",
       "      <th>Felony probation_x</th>\n",
       "      <th>Jail_x</th>\n",
       "      <th>Post-sentence_x</th>\n",
       "      <th>Total_x</th>\n",
       "      <th>VAP_x</th>\n",
       "      <th>% Disenfranchised_x</th>\n",
       "      <th>Prison_y</th>\n",
       "      <th>Parole_y</th>\n",
       "      <th>Felony probation_y</th>\n",
       "      <th>Jail_y</th>\n",
       "      <th>Post-sentence_y</th>\n",
       "      <th>Total_y</th>\n",
       "      <th>VAP_y</th>\n",
       "      <th>% Disenfranchised_y</th>\n",
       "    </tr>\n",
       "  </thead>\n",
       "  <tbody>\n",
       "    <tr>\n",
       "      <th>0</th>\n",
       "      <td>Alabama</td>\n",
       "      <td>30,585</td>\n",
       "      <td>6,580</td>\n",
       "      <td>15,626</td>\n",
       "      <td>1,578</td>\n",
       "      <td>231,896</td>\n",
       "      <td>286,266</td>\n",
       "      <td>3,755,483</td>\n",
       "      <td>7.62%</td>\n",
       "      <td>17,775</td>\n",
       "      <td>3,957</td>\n",
       "      <td>7,740</td>\n",
       "      <td>823</td>\n",
       "      <td>113,629</td>\n",
       "      <td>143,924</td>\n",
       "      <td>952,671</td>\n",
       "      <td>15.11%</td>\n",
       "    </tr>\n",
       "    <tr>\n",
       "      <th>1</th>\n",
       "      <td>Alaska</td>\n",
       "      <td>5,497</td>\n",
       "      <td>2,035</td>\n",
       "      <td>6,900</td>\n",
       "      <td>7</td>\n",
       "      <td>NaN</td>\n",
       "      <td>14,439</td>\n",
       "      <td>552,166</td>\n",
       "      <td>2.61%</td>\n",
       "      <td>519</td>\n",
       "      <td>211</td>\n",
       "      <td>718</td>\n",
       "      <td>2</td>\n",
       "      <td>NaN</td>\n",
       "      <td>1,450</td>\n",
       "      <td>21,219</td>\n",
       "      <td>6.83%</td>\n",
       "    </tr>\n",
       "    <tr>\n",
       "      <th>2</th>\n",
       "      <td>Arizona</td>\n",
       "      <td>44,509</td>\n",
       "      <td>7,241</td>\n",
       "      <td>51,362</td>\n",
       "      <td>1,341</td>\n",
       "      <td>116,717</td>\n",
       "      <td>221,170</td>\n",
       "      <td>5,205,215</td>\n",
       "      <td>4.25%</td>\n",
       "      <td>5,879</td>\n",
       "      <td>952</td>\n",
       "      <td>5,654</td>\n",
       "      <td>361</td>\n",
       "      <td>12,645</td>\n",
       "      <td>25,492</td>\n",
       "      <td>214,412</td>\n",
       "      <td>11.89%</td>\n",
       "    </tr>\n",
       "    <tr>\n",
       "      <th>3</th>\n",
       "      <td>Arkansas</td>\n",
       "      <td>19,224</td>\n",
       "      <td>21,811</td>\n",
       "      <td>24,695</td>\n",
       "      <td>975</td>\n",
       "      <td>NaN</td>\n",
       "      <td>66,705</td>\n",
       "      <td>2,272,904</td>\n",
       "      <td>2.93%</td>\n",
       "      <td>8,524</td>\n",
       "      <td>8,844</td>\n",
       "      <td>8,676</td>\n",
       "      <td>62</td>\n",
       "      <td>NaN</td>\n",
       "      <td>26,106</td>\n",
       "      <td>333,472</td>\n",
       "      <td>7.83%</td>\n",
       "    </tr>\n",
       "    <tr>\n",
       "      <th>4</th>\n",
       "      <td>California</td>\n",
       "      <td>136,302</td>\n",
       "      <td>86,254</td>\n",
       "      <td>NaN</td>\n",
       "      <td>NaN</td>\n",
       "      <td>NaN</td>\n",
       "      <td>222,557</td>\n",
       "      <td>30,023,902</td>\n",
       "      <td>0.74%</td>\n",
       "      <td>39,451</td>\n",
       "      <td>23,939</td>\n",
       "      <td>NaN</td>\n",
       "      <td>NaN</td>\n",
       "      <td>NaN</td>\n",
       "      <td>63,390</td>\n",
       "      <td>1,858,353</td>\n",
       "      <td>3.41%</td>\n",
       "    </tr>\n",
       "  </tbody>\n",
       "</table>\n",
       "</div>"
      ],
      "text/plain": [
       "        State Prison_x Parole_x Felony probation_x Jail_x Post-sentence_x  \\\n",
       "0     Alabama   30,585    6,580             15,626  1,578         231,896   \n",
       "1      Alaska    5,497    2,035              6,900      7             NaN   \n",
       "2     Arizona   44,509    7,241             51,362  1,341         116,717   \n",
       "3    Arkansas   19,224   21,811             24,695    975             NaN   \n",
       "4  California  136,302   86,254                NaN    NaN             NaN   \n",
       "\n",
       "   Total_x       VAP_x % Disenfranchised_x Prison_y Parole_y  \\\n",
       "0  286,266   3,755,483               7.62%   17,775    3,957   \n",
       "1   14,439     552,166               2.61%      519      211   \n",
       "2  221,170   5,205,215               4.25%    5,879      952   \n",
       "3   66,705   2,272,904               2.93%    8,524    8,844   \n",
       "4  222,557  30,023,902               0.74%   39,451   23,939   \n",
       "\n",
       "  Felony probation_y Jail_y Post-sentence_y  Total_y      VAP_y  \\\n",
       "0              7,740    823         113,629  143,924    952,671   \n",
       "1                718      2             NaN    1,450     21,219   \n",
       "2              5,654    361          12,645   25,492    214,412   \n",
       "3              8,676     62             NaN   26,106    333,472   \n",
       "4                NaN    NaN             NaN   63,390  1,858,353   \n",
       "\n",
       "  % Disenfranchised_y  \n",
       "0              15.11%  \n",
       "1               6.83%  \n",
       "2              11.89%  \n",
       "3               7.83%  \n",
       "4               3.41%  "
      ]
     },
     "execution_count": 17,
     "metadata": {},
     "output_type": "execute_result"
    }
   ],
   "source": [
    "felons_merge.head()"
   ]
  },
  {
   "cell_type": "code",
   "execution_count": 18,
   "metadata": {
    "collapsed": false
   },
   "outputs": [
    {
     "data": {
      "text/html": [
       "<div>\n",
       "<style>\n",
       "    .dataframe thead tr:only-child th {\n",
       "        text-align: right;\n",
       "    }\n",
       "\n",
       "    .dataframe thead th {\n",
       "        text-align: left;\n",
       "    }\n",
       "\n",
       "    .dataframe tbody tr th {\n",
       "        vertical-align: top;\n",
       "    }\n",
       "</style>\n",
       "<table border=\"1\" class=\"dataframe\">\n",
       "  <thead>\n",
       "    <tr style=\"text-align: right;\">\n",
       "      <th></th>\n",
       "      <th>State</th>\n",
       "      <th>abbreviation</th>\n",
       "      <th>Prison Only</th>\n",
       "      <th>Prison &amp; Parole</th>\n",
       "      <th>Prison, Parole &amp; Probation</th>\n",
       "      <th>Prison, parole, probation, &amp; post-sentence</th>\n",
       "      <th>StateName</th>\n",
       "      <th>StrictID_reqd</th>\n",
       "      <th>PhotoID_reqd</th>\n",
       "      <th>Non-PhotoID</th>\n",
       "      <th>No_ID</th>\n",
       "    </tr>\n",
       "  </thead>\n",
       "  <tbody>\n",
       "    <tr>\n",
       "      <th>0</th>\n",
       "      <td>Alabama</td>\n",
       "      <td>AL</td>\n",
       "      <td>0</td>\n",
       "      <td>0</td>\n",
       "      <td>0</td>\n",
       "      <td>1</td>\n",
       "      <td>Alabama</td>\n",
       "      <td>0</td>\n",
       "      <td>1</td>\n",
       "      <td>0</td>\n",
       "      <td>0</td>\n",
       "    </tr>\n",
       "    <tr>\n",
       "      <th>1</th>\n",
       "      <td>Alaska</td>\n",
       "      <td>AK</td>\n",
       "      <td>0</td>\n",
       "      <td>0</td>\n",
       "      <td>1</td>\n",
       "      <td>0</td>\n",
       "      <td>Alaska</td>\n",
       "      <td>0</td>\n",
       "      <td>0</td>\n",
       "      <td>1</td>\n",
       "      <td>0</td>\n",
       "    </tr>\n",
       "    <tr>\n",
       "      <th>2</th>\n",
       "      <td>Arizona</td>\n",
       "      <td>AZ</td>\n",
       "      <td>0</td>\n",
       "      <td>0</td>\n",
       "      <td>0</td>\n",
       "      <td>1</td>\n",
       "      <td>Arizona</td>\n",
       "      <td>1</td>\n",
       "      <td>0</td>\n",
       "      <td>1</td>\n",
       "      <td>0</td>\n",
       "    </tr>\n",
       "    <tr>\n",
       "      <th>3</th>\n",
       "      <td>Arkansas</td>\n",
       "      <td>AR</td>\n",
       "      <td>0</td>\n",
       "      <td>0</td>\n",
       "      <td>1</td>\n",
       "      <td>0</td>\n",
       "      <td>Arkansas</td>\n",
       "      <td>0</td>\n",
       "      <td>1</td>\n",
       "      <td>0</td>\n",
       "      <td>0</td>\n",
       "    </tr>\n",
       "    <tr>\n",
       "      <th>4</th>\n",
       "      <td>California</td>\n",
       "      <td>CA</td>\n",
       "      <td>0</td>\n",
       "      <td>1</td>\n",
       "      <td>0</td>\n",
       "      <td>0</td>\n",
       "      <td>California</td>\n",
       "      <td>0</td>\n",
       "      <td>0</td>\n",
       "      <td>0</td>\n",
       "      <td>0</td>\n",
       "    </tr>\n",
       "  </tbody>\n",
       "</table>\n",
       "</div>"
      ],
      "text/plain": [
       "        State abbreviation  Prison Only  Prison & Parole  \\\n",
       "0     Alabama           AL            0                0   \n",
       "1      Alaska           AK            0                0   \n",
       "2     Arizona           AZ            0                0   \n",
       "3    Arkansas           AR            0                0   \n",
       "4  California           CA            0                1   \n",
       "\n",
       "   Prison, Parole & Probation  Prison, parole, probation, & post-sentence  \\\n",
       "0                           0                                           1   \n",
       "1                           1                                           0   \n",
       "2                           0                                           1   \n",
       "3                           1                                           0   \n",
       "4                           0                                           0   \n",
       "\n",
       "    StateName  StrictID_reqd  PhotoID_reqd  Non-PhotoID  No_ID  \n",
       "0     Alabama              0             1            0      0  \n",
       "1      Alaska              0             0            1      0  \n",
       "2     Arizona              1             0            1      0  \n",
       "3    Arkansas              0             1            0      0  \n",
       "4  California              0             0            0      0  "
      ]
     },
     "execution_count": 18,
     "metadata": {},
     "output_type": "execute_result"
    }
   ],
   "source": [
    "felon_voter_laws.head()"
   ]
  }
 ],
 "metadata": {
  "kernelspec": {
   "display_name": "Python 2",
   "language": "python",
   "name": "python2"
  },
  "language_info": {
   "codemirror_mode": {
    "name": "ipython",
    "version": 2
   },
   "file_extension": ".py",
   "mimetype": "text/x-python",
   "name": "python",
   "nbconvert_exporter": "python",
   "pygments_lexer": "ipython2",
   "version": "2.7.11"
  }
 },
 "nbformat": 4,
 "nbformat_minor": 2
}
